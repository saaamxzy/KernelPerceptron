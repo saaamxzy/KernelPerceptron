{
 "cells": [
  {
   "cell_type": "markdown",
   "metadata": {},
   "source": [
    "Zhengyuan Xu\n",
    "\n",
    "\n",
    "A99076427\n",
    "# Problem 1.1\n",
    "\n",
    "Training error: 0.013223140495867768 (with p = 3)\n",
    "\n",
    "\n",
    "Test error: 0.04221635883905013 (with p = 3)\n",
    "\n",
    "\n",
    "Training error: 0.009366391184573003 (with p = 4)\n",
    "\n",
    "\n",
    "Test error: 0.03430079155672823 (with p = 4)\n",
    "\n",
    "\n",
    "Training error: 0.006887052341597796 (with p = 5)\n",
    "\n",
    "\n",
    "Test error: 0.06068601583113457 (with p = 5)\n",
    "\n",
    "# Problem 1.2\n",
    "\n",
    "Training error: 0.026170798898071626 (with p = 3)\n",
    "\n",
    "\n",
    "Test error: 0.06728232189973615 (with p = 3)\n",
    "\n",
    "\n",
    "Training error: 0.008815426997245178 (with p = 4)\n",
    "\n",
    "\n",
    "Test error: 0.03562005277044855 (with p = 4)\n",
    "\n",
    "\n",
    "Training error: 0.006887052341597796 (with p = 5)\n",
    "\n",
    "\n",
    "Test error: 0.06068601583113457 (with p = 5)\n",
    "\n",
    "# Problem 1.3\n",
    "\n",
    "There are 5 coordinates in w with the same highest positive values. They are:\n",
    "\n",
    "'WDTAG', 'DTAGQ', 'LFLNK', 'GKSSL', 'KVGPD'\n",
    "\n"
   ]
  },
  {
   "cell_type": "code",
   "execution_count": 145,
   "metadata": {
    "collapsed": true
   },
   "outputs": [],
   "source": [
    "import numpy as np\n",
    "import time\n",
    "import random\n",
    "from collections import defaultdict\n",
    "from copy import deepcopy\n",
    "import operator"
   ]
  },
  {
   "cell_type": "code",
   "execution_count": 135,
   "metadata": {
    "collapsed": true
   },
   "outputs": [],
   "source": [
    "def read_file(filename):\n",
    "    f = open(filename,'r')\n",
    "    x = []\n",
    "    y = []\n",
    "    lines = f.readlines()\n",
    "    for line in lines:\n",
    "        content = line.strip().split()\n",
    "        x.append(content[0])\n",
    "        y.append(int(content[1]))\n",
    "    f.close()\n",
    "\n",
    "    return x,y\n",
    "\n",
    "def ncs(s, t, p):\n",
    "    len_s = len(s)\n",
    "    len_t = len(t)\n",
    "    total_count = 0\n",
    "    s_counts = defaultdict(int)\n",
    "    t_counts = defaultdict(int)\n",
    "    for i in range(len_s-p+1):\n",
    "        sub = s[i:i+p]\n",
    "        s_counts[sub] += 1\n",
    "    for i in range(len_t-p+1):\n",
    "        sub = t[i:i+p]\n",
    "        t_counts[sub] += 1\n",
    "    for s, count in s_counts.items():\n",
    "        total_count += count * t_counts[s]\n",
    "        \n",
    "    return total_count\n",
    "\n",
    "def ncs2(s, t, p):\n",
    "    len_s = len(s)\n",
    "    len_t = len(t)\n",
    "    total_count = 0\n",
    "    s_counts = defaultdict(int)\n",
    "    t_counts = defaultdict(int)\n",
    "    for i in range(len_s-p+1):\n",
    "        sub = s[i:i+p]\n",
    "        if sub not in s_counts:\n",
    "            s_counts[sub] += 1\n",
    "    for i in range(len_t-p+1):\n",
    "        sub = t[i:i+p]\n",
    "        if sub not in t_counts:\n",
    "            t_counts[sub] += 1\n",
    "    for s, count in s_counts.items():\n",
    "        total_count += count * t_counts[s]\n",
    "        \n",
    "    return total_count\n",
    "\n",
    "def num_common_substr(s, t, p):\n",
    "    len_s = len(s)\n",
    "    len_t = len(t)\n",
    "    count = 0\n",
    "    for i in range(len_s-p+1):\n",
    "        v = s[i:i+p]\n",
    "        if_continue = False\n",
    "        for k in range(i):\n",
    "            if v == s[k:k+p]:\n",
    "                if_continue = True\n",
    "                break\n",
    "        if if_continue:\n",
    "            continue\n",
    "        for j in range(len_t+p):\n",
    "            if t[j:j+p] == v:\n",
    "                count += 1\n",
    "    return count"
   ]
  },
  {
   "cell_type": "code",
   "execution_count": 136,
   "metadata": {
    "collapsed": false
   },
   "outputs": [
    {
     "name": "stdout",
     "output_type": "stream",
     "text": [
      "6\n"
     ]
    }
   ],
   "source": [
    "n = ncs('abcabc', 'aaaabvabc', 2)\n",
    "print(n)"
   ]
  },
  {
   "cell_type": "code",
   "execution_count": 137,
   "metadata": {
    "collapsed": true
   },
   "outputs": [],
   "source": [
    "class KPerceptron:\n",
    "    def __init__(self, train_x, train_y, kernel=None):\n",
    "        self.w = 0\n",
    "        self.S = set()\n",
    "        self.n = len(train_x)\n",
    "        self.kernel = kernel\n",
    "        self.train_x = train_x\n",
    "        self.train_y = train_y\n",
    "        self.p = 2\n",
    "        \n",
    "    def set_p(self, p):\n",
    "        self.p = p\n",
    "        \n",
    "    def dot_product(self, xt, yt, c=False):\n",
    "        rs = 0\n",
    "        for s in self.S:\n",
    "            xs = self.train_x[s]\n",
    "            ys = self.train_y[s]\n",
    "            if c:\n",
    "                rs += ys * ncs2(xt, xs, self.p)\n",
    "            else:\n",
    "                rs += ys * ncs(xt, xs, self.p)\n",
    "        return rs\n",
    "        \n",
    "    def train(self):\n",
    "        self.w = 0\n",
    "        self.S = set()\n",
    "        for i in range(self.n):\n",
    "            xt = self.train_x[i]\n",
    "            yt = self.train_y[i]\n",
    "            if yt * self.dot_product(xt,yt) <= 0:\n",
    "                self.S.add(i)\n",
    "                \n",
    "    def train_M(self):\n",
    "        self.S = set()\n",
    "        for i in range(self.n):\n",
    "            xt = self.train_x[i]\n",
    "            yt = self.train_y[i]\n",
    "            if yt * self.dot_product(xt,yt, True) <= 0:\n",
    "                self.S.add(i)\n",
    "                \n",
    "    def evaluate(self, eval_x, eval_y):\n",
    "        error = 0\n",
    "        for i in range(len(eval_x)):\n",
    "            x = eval_x[i]\n",
    "            y = eval_y[i]\n",
    "            predict = self.dot_product(x,y)\n",
    "            if predict < 0:\n",
    "                prediction = -1\n",
    "            else:\n",
    "                prediction = 1\n",
    "            if prediction != y:\n",
    "                error += 1\n",
    "        return float(error) / float(len(eval_x))\n",
    "        "
   ]
  },
  {
   "cell_type": "code",
   "execution_count": 138,
   "metadata": {
    "collapsed": false
   },
   "outputs": [],
   "source": [
    "train_x, train_y = read_file('pa4train.txt')\n",
    "KP3 = KPerceptron(train_x, train_y)\n",
    "test_x, test_y = read_file('pa4test.txt')\n"
   ]
  },
  {
   "cell_type": "code",
   "execution_count": 132,
   "metadata": {
    "collapsed": false
   },
   "outputs": [
    {
     "name": "stdout",
     "output_type": "stream",
     "text": [
      "101.30599594116211 seconds taken for training with p = 3.\n",
      "Training error: 0.013223140495867768 (with p = 3)\n",
      "Test error: 0.04221635883905013 (with p = 3)\n",
      "104.1920599937439 seconds taken for training with p = 4.\n",
      "Training error: 0.009366391184573003 (with p = 4)\n",
      "Test error: 0.03430079155672823 (with p = 4)\n",
      "185.0991714000702 seconds taken for training with p = 5.\n",
      "Training error: 0.006887052341597796 (with p = 5)\n",
      "Test error: 0.06068601583113457 (with p = 5)\n"
     ]
    }
   ],
   "source": [
    "### Problem 1 ###\n",
    "for p in range(3, 6):\n",
    "    KP3.set_p(p)\n",
    "    start = time.time()\n",
    "    KP3.train()\n",
    "    end = time.time()\n",
    "    print('{} seconds taken for training with p = {}.'.format(end - start, p))\n",
    "    print('Training error: {} (with p = {})'.format(KP3.evaluate(train_x, train_y), p))\n",
    "    print('Test error: {} (with p = {})'.format(KP3.evaluate(test_x, test_y), p))\n",
    "\n"
   ]
  },
  {
   "cell_type": "code",
   "execution_count": 140,
   "metadata": {
    "collapsed": false
   },
   "outputs": [
    {
     "name": "stdout",
     "output_type": "stream",
     "text": [
      "108.93576884269714 seconds taken for training with p = 3.\n",
      "Training error: 0.026170798898071626 (with p = 3)\n",
      "Test error: 0.06728232189973615 (with p = 3)\n",
      "112.15440535545349 seconds taken for training with p = 4.\n",
      "Training error: 0.008815426997245178 (with p = 4)\n",
      "Test error: 0.03562005277044855 (with p = 4)\n",
      "199.24319505691528 seconds taken for training with p = 5.\n",
      "Training error: 0.006887052341597796 (with p = 5)\n",
      "Test error: 0.06068601583113457 (with p = 5)\n"
     ]
    }
   ],
   "source": [
    "### Problem 2 ###\n",
    "for p in range(3, 6):\n",
    "    KP3.set_p(p)\n",
    "    start = time.time()\n",
    "    KP3.train_M()\n",
    "    end = time.time()\n",
    "    print('{} seconds taken for training with p = {}.'.format(end - start, p))\n",
    "    print('Training error: {} (with p = {})'.format(KP3.evaluate(train_x, train_y), p))\n",
    "    print('Test error: {} (with p = {})'.format(KP3.evaluate(test_x, test_y), p))"
   ]
  },
  {
   "cell_type": "code",
   "execution_count": 141,
   "metadata": {
    "collapsed": false
   },
   "outputs": [
    {
     "name": "stdout",
     "output_type": "stream",
     "text": [
      "207.27038073539734 seconds taken for training with p = 5.\n",
      "Training error: 0.006887052341597796 (with p = 5)\n",
      "Test error: 0.06068601583113457 (with p = 5)\n"
     ]
    }
   ],
   "source": [
    "### Problem 3 ###\n",
    "p = 5\n",
    "KP3.set_p(p)\n",
    "start = time.time()\n",
    "KP3.train()\n",
    "end = time.time()\n",
    "print('{} seconds taken for training with p = {}.'.format(end - start, p))\n",
    "print('Training error: {} (with p = {})'.format(KP3.evaluate(train_x, train_y), p))\n",
    "print('Test error: {} (with p = {})'.format(KP3.evaluate(test_x, test_y), p))\n"
   ]
  },
  {
   "cell_type": "code",
   "execution_count": 157,
   "metadata": {
    "collapsed": false
   },
   "outputs": [
    {
     "name": "stdout",
     "output_type": "stream",
     "text": [
      "474\n",
      "10239\n",
      "45178\n",
      "('WDTAG', 3)\n",
      "('DTAGQ', 3)\n",
      "('LFLNK', 3)\n",
      "('GKSSL', 3)\n",
      "('KVGPD', 3)\n",
      "('VGKTV', 2)\n",
      "('GVGKT', 2)\n",
      "('GKTTL', 2)\n",
      "('TAGQE', 2)\n",
      "('YYRGA', 2)\n"
     ]
    }
   ],
   "source": [
    "print(len(KP3.S))\n",
    "\n",
    "\n",
    "pos_counts = defaultdict(int)\n",
    "neg_counts = defaultdict(int)\n",
    "for i in KP3.S:\n",
    "    x = train_x[i]\n",
    "    y = train_y[i]\n",
    "    for j in range(len(x)-p+1):\n",
    "        sub = x[j:j+p]\n",
    "        if y == 1:\n",
    "            pos_counts[sub] += 1\n",
    "        else:\n",
    "            neg_counts[sub] += 1\n",
    "print(len(pos_counts))\n",
    "print(len(neg_counts))\n",
    "    \n",
    "sorted_pos = sorted(pos_counts.items(), key=operator.itemgetter(1), reverse=True)\n",
    "sorted_neg = sorted(neg_counts.items(), key=operator.itemgetter(1), reverse=True)\n",
    "\n",
    "rs = []\n",
    "for s, c in sorted_pos:\n",
    "    rs.append((s, c - neg_counts[s]))\n",
    "rs = sorted(rs, key = lambda x:x[1], reverse=True)\n",
    "    \n",
    "for i in range(10):\n",
    "    print(rs[i])\n",
    "\n",
    "    \n"
   ]
  },
  {
   "cell_type": "code",
   "execution_count": null,
   "metadata": {
    "collapsed": true
   },
   "outputs": [],
   "source": []
  }
 ],
 "metadata": {
  "kernelspec": {
   "display_name": "Python 3",
   "language": "python",
   "name": "python3"
  },
  "language_info": {
   "codemirror_mode": {
    "name": "ipython",
    "version": 3
   },
   "file_extension": ".py",
   "mimetype": "text/x-python",
   "name": "python",
   "nbconvert_exporter": "python",
   "pygments_lexer": "ipython3",
   "version": "3.6.0"
  }
 },
 "nbformat": 4,
 "nbformat_minor": 2
}
